{
 "cells": [
  {
   "cell_type": "code",
   "execution_count": 9,
   "metadata": {},
   "outputs": [],
   "source": [
    "# Import libraries\n",
    "\n",
    "# Here are a set of libraries we imported to complete this assignment. \n",
    "# Feel free to use these or equivalent libraries for your implementation\n",
    "# and also add more import statements if any are missing.\n",
    "# If you can run this cell without any errors, you're ready to go.\n",
    "\n",
    "#import warnings\n",
    "#warnings.simplefilter(action='ignore', category=FutureWarning)\n",
    "\n",
    "import numpy as np # linear algebra\n",
    "import pandas as pd # data processing, CSV file I/O (e.g. pd.read_csv)\n",
    "import matplotlib.pyplot as plt # this is used for the plot the graph \n",
    "import seaborn as sns # used for plot interactive graph.\n",
    "\n",
    "from sklearn.model_selection import train_test_split, KFold, StratifiedKFold\n",
    "\n",
    "from sklearn.svm import SVC  \n",
    "from sklearn.linear_model import LogisticRegression\n",
    "from sklearn.neighbors import KNeighborsClassifier\n",
    "from sklearn.metrics import ConfusionMatrixDisplay\n",
    "\n",
    "from sklearn.preprocessing import StandardScaler\n",
    "\n",
    "\n",
    "\n",
    "from numpy import mean\n",
    "from sklearn.datasets import make_classification\n",
    "from sklearn.model_selection import cross_val_score\n",
    "from sklearn.model_selection import RepeatedStratifiedKFold\n",
    "from sklearn.ensemble import BaggingClassifier\n",
    "\n",
    "import xgboost as xgb\n",
    "from sklearn.model_selection import cross_val_score\n",
    "from sklearn.model_selection import StratifiedKFold, GridSearchCV, RandomizedSearchCV\n",
    "from sklearn.linear_model import SGDClassifier\n",
    "\n",
    "import shap\n",
    "\n",
    "import os\n",
    "import random\n",
    "import csv\n",
    "\n",
    "from craig.lazy_greedy import *\n",
    "from demographic_data import demographics\n",
    "from stress_data import stress, stress_cluster\n",
    "from mri_sdp import mri_sdp\n"
   ]
  },
  {
   "cell_type": "code",
   "execution_count": 11,
   "metadata": {},
   "outputs": [],
   "source": [
    "demographic_df = demographics(\"Data/pdem02.txt\")\n",
    "stress_df = stress()\n",
    "stress_df.to_csv('Sample_5559.csv', index=False)"
   ]
  },
  {
   "cell_type": "code",
   "execution_count": 15,
   "metadata": {},
   "outputs": [
    {
     "ename": "ValueError",
     "evalue": "not enough values to unpack (expected 3, got 0)",
     "output_type": "error",
     "traceback": [
      "\u001b[0;31m---------------------------------------------------------------------------\u001b[0m",
      "\u001b[0;31mValueError\u001b[0m                                Traceback (most recent call last)",
      "\u001b[1;32m/Users/brucequ/Documents/BigML/Project_ABCD_Clustering/notebook.ipynb Cell 3\u001b[0m in \u001b[0;36m<cell line: 2>\u001b[0;34m()\u001b[0m\n\u001b[1;32m      <a href='vscode-notebook-cell:/Users/brucequ/Documents/BigML/Project_ABCD_Clustering/notebook.ipynb#W4sZmlsZQ%3D%3D?line=0'>1</a>\u001b[0m \u001b[39m# Explore high-stress groups and constant low-stress group\u001b[39;00m\n\u001b[0;32m----> <a href='vscode-notebook-cell:/Users/brucequ/Documents/BigML/Project_ABCD_Clustering/notebook.ipynb#W4sZmlsZQ%3D%3D?line=1'>2</a>\u001b[0m [all_stress_subkey, high_stress_subkey, low_stress_subkey] \u001b[39m=\u001b[39m stress_cluster(stress_df, \u001b[39m16\u001b[39m)\n\u001b[1;32m      <a href='vscode-notebook-cell:/Users/brucequ/Documents/BigML/Project_ABCD_Clustering/notebook.ipynb#W4sZmlsZQ%3D%3D?line=3'>4</a>\u001b[0m \u001b[39m# mri_sdp data\u001b[39;00m\n\u001b[1;32m      <a href='vscode-notebook-cell:/Users/brucequ/Documents/BigML/Project_ABCD_Clustering/notebook.ipynb#W4sZmlsZQ%3D%3D?line=4'>5</a>\u001b[0m mri_sdp_df \u001b[39m=\u001b[39m mri_sdp(all_stress_subkey)\n",
      "\u001b[0;31mValueError\u001b[0m: not enough values to unpack (expected 3, got 0)"
     ]
    }
   ],
   "source": [
    "# Explore high-stress groups and constant low-stress group\n",
    "[all_stress_subkey, high_stress_subkey, low_stress_subkey] = stress_cluster(stress_df, 16)\n",
    "\n",
    "# mri_sdp data\n",
    "mri_sdp_df = mri_sdp(all_stress_subkey)\n",
    "\n",
    "# betnet data\n",
    "\n"
   ]
  },
  {
   "cell_type": "code",
   "execution_count": null,
   "metadata": {},
   "outputs": [],
   "source": [
    "# "
   ]
  }
 ],
 "metadata": {
  "kernelspec": {
   "display_name": "ML3.8",
   "language": "python",
   "name": "python3"
  },
  "language_info": {
   "codemirror_mode": {
    "name": "ipython",
    "version": 3
   },
   "file_extension": ".py",
   "mimetype": "text/x-python",
   "name": "python",
   "nbconvert_exporter": "python",
   "pygments_lexer": "ipython3",
   "version": "3.8.15"
  },
  "orig_nbformat": 4
 },
 "nbformat": 4,
 "nbformat_minor": 2
}
